{
 "cells": [
  {
   "cell_type": "markdown",
   "metadata": {},
   "source": [
    "## Import the Needed Libraries"
   ]
  },
  {
   "cell_type": "code",
   "execution_count": null,
   "metadata": {},
   "outputs": [],
   "source": [
    "import cv2\n",
    "import numpy as np\n",
    "import pygame"
   ]
  },
  {
   "cell_type": "markdown",
   "metadata": {},
   "source": [
    "## Initialize the variables and define the initial conditions"
   ]
  },
  {
   "cell_type": "code",
   "execution_count": null,
   "metadata": {},
   "outputs": [],
   "source": [
    "pygame.init()\n",
    "cap = cv2.VideoCapture(0)\n",
    "face_cascade = cv2.CascadeClassifier(cv2.data.haarcascades + \"haarcascade_frontalface_default.xml\")\n",
    "\n",
    "# read the first frame to initialize the background\n",
    "re, prev_frame = cap.read()\n",
    "\n",
    "#load the drums sound\n",
    "drum_sound_fast = pygame.mixer.Sound(\"drum.wav\")\n",
    "high_drum_sound = pygame.mixer.Sound(\"high.wav\")\n",
    "\n",
    "#set the default speed and volume\n",
    "default_speed = 44100  # Adjust as needed\n",
    "default_volume = 0.5  # Adjust as needed\n",
    "pygame.mixer.init(frequency=default_speed, size=-16, channels=1, buffer=512)\n",
    "y_previous = 0"
   ]
  },
  {
   "cell_type": "markdown",
   "metadata": {},
   "source": [
    "## Funciton play_drums\n",
    "#### Takes the contour and the current frame as inputs and play the sound of drums according to the way of hands moving\n"
   ]
  },
  {
   "cell_type": "code",
   "execution_count": null,
   "metadata": {},
   "outputs": [],
   "source": [
    "\n",
    "def play_drums(contour, current_frame):\n",
    "    x, y, w, h = cv2.boundingRect(contour)\n",
    "    speed = y - (y - h)\n",
    "    speed_threshold = 300\n",
    "    if speed > speed_threshold and y + h > current_frame.shape[0] - 15:\n",
    "        roi = current_frame[y : y + h, x : x + w]\n",
    "        gray_roi = cv2.cvtColor(roi, cv2.COLOR_BGR2GRAY)\n",
    "        mean_intensity = np.mean(gray_roi)\n",
    "        texture_threshold = 500\n",
    "        if y_previous > y:\n",
    "            print(\"Object moving downward at a high speed with low texture\")\n",
    "\n",
    "            speed_mapping = min((speed - speed_threshold) / 50, 1.0)\n",
    "            drum_sound_speed = int(default_speed * (1.0 + speed_mapping))\n",
    "\n",
    "            print(\n",
    "                f\"Object moving at a high speed! Drum sound speed: {drum_sound_speed}\"\n",
    "            )\n",
    "\n",
    "            adjusted_volume = min(default_volume + speed_mapping, 1.0)\n",
    "\n",
    "            if drum_sound_speed > 80000:\n",
    "                pygame.mixer.Channel(0).set_volume(adjusted_volume)\n",
    "                pygame.mixer.Channel(0).play(high_drum_sound)\n",
    "            else:\n",
    "                pygame.mixer.Channel(0).set_volume(adjusted_volume)\n",
    "                pygame.mixer.Channel(0).play(drum_sound_fast)\n",
    "\n",
    "            cv2.rectangle(current_frame, (x, y), (x + w, y + h), (0, 255, 0), 2)\n",
    "    return y\n"
   ]
  },
  {
   "cell_type": "markdown",
   "metadata": {},
   "source": [
    "## The program flow\n",
    "#### first we subtract the frames to get the moving objects only, and then we adjust the output by convert it to binary scale (black and white only) and apply openning on it, then we use find_contours function to get the contours around the movind objects"
   ]
  },
  {
   "cell_type": "code",
   "execution_count": null,
   "metadata": {},
   "outputs": [],
   "source": [
    "while True:\n",
    "    ret, current_frame = cap.read()\n",
    "    if not ret:\n",
    "        break\n",
    "\n",
    "    diff_frame = cv2.absdiff(current_frame, prev_frame)\n",
    "    gray_diff = cv2.cvtColor(diff_frame, cv2.COLOR_BGR2GRAY)\n",
    "    _, thresholded_diff = cv2.threshold(gray_diff, 20, 255, cv2.THRESH_BINARY)\n",
    "    thresholded_diff = cv2.morphologyEx(thresholded_diff, cv2.MORPH_OPEN, kernel=np.ones((5, 5)))\n",
    "    contours, _ = cv2.findContours(thresholded_diff, cv2.RETR_EXTERNAL, cv2.CHAIN_APPROX_SIMPLE)\n",
    "\n",
    "    for contour in contours:\n",
    "        y_previous = play_drums(contour, current_frame)\n",
    "    cv2.imshow(\"Original\", current_frame)\n",
    "    cv2.imshow(\"Moving only\", thresholded_diff)\n",
    "\n",
    "    prev_frame = current_frame.copy()\n",
    "\n",
    "    if cv2.waitKey(1) == ord(\"q\"):\n",
    "        break\n",
    "\n",
    "cap.release()\n",
    "cv2.destroyAllWindows()"
   ]
  },
  {
   "cell_type": "code",
   "execution_count": null,
   "metadata": {},
   "outputs": [],
   "source": []
  }
 ],
 "metadata": {
  "kernelspec": {
   "display_name": "image",
   "language": "python",
   "name": "python3"
  },
  "language_info": {
   "codemirror_mode": {
    "name": "ipython",
    "version": 3
   },
   "file_extension": ".py",
   "mimetype": "text/x-python",
   "name": "python",
   "nbconvert_exporter": "python",
   "pygments_lexer": "ipython3",
   "version": "3.11.5"
  }
 },
 "nbformat": 4,
 "nbformat_minor": 2
}
